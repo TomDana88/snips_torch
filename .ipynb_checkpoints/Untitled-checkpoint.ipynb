{
 "cells": [
  {
   "cell_type": "code",
   "execution_count": 4,
   "id": "7291e202-4c3b-49c5-9fdc-2e1b43d694fa",
   "metadata": {},
   "outputs": [],
   "source": [
    "import torch\n",
    "from torch.utils.data import DataLoader\n",
    "from skimage.util import random_noise\n",
    "import torchvision.transforms as transforms\n",
    "from datasets.celeba import CelebA\n"
   ]
  },
  {
   "cell_type": "code",
   "execution_count": null,
   "id": "7c508615-2b98-4250-b901-aa7759fbd44d",
   "metadata": {},
   "outputs": [],
   "source": [
    "dataset = CelebA(root=os.path.join('exp/datasets'), split='test',\n",
    "                 transform=transforms.Compose([\n",
    "                     transforms.CenterCrop(140),\n",
    "                     transforms.Resize(64),\n",
    "                     transforms.ToTensor(),\n",
    "                 ]), download=False)\n",
    "\n",
    "dataloader = DataLoader(\n",
    "    dataset,\n",
    "    batch_size=1,\n",
    "    shuffle=True,\n",
    "    num_workers=0,\n",
    ")\n"
   ]
  }
 ],
 "metadata": {
  "kernelspec": {
   "display_name": "Python 3 (ipykernel)",
   "language": "python",
   "name": "python3"
  },
  "language_info": {
   "codemirror_mode": {
    "name": "ipython",
    "version": 3
   },
   "file_extension": ".py",
   "mimetype": "text/x-python",
   "name": "python",
   "nbconvert_exporter": "python",
   "pygments_lexer": "ipython3",
   "version": "3.11.9"
  }
 },
 "nbformat": 4,
 "nbformat_minor": 5
}
